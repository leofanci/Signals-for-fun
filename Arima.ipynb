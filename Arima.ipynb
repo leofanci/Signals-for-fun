{
 "cells": [
  {
   "cell_type": "markdown",
   "id": "00244d2d",
   "metadata": {},
   "source": [
    "# Arima Strategy"
   ]
  },
  {
   "cell_type": "code",
   "execution_count": 1,
   "id": "60442734",
   "metadata": {},
   "outputs": [],
   "source": [
    "import yfinance as yf\n",
    "import matplotlib.pyplot as plt\n",
    "import pandas as pd\n",
    "import numpy as np\n",
    "import datetime\n",
    "import io\n",
    "import datetime\n",
    "import matplotlib.lines as mlines\n",
    "import statsmodels.formula.api as smf\n",
    "import scipy.stats as st\n",
    "from statsmodels.tsa.arima.model import ARIMA\n",
    "from statsmodels.graphics.tsaplots import plot_acf, plot_pacf"
   ]
  },
  {
   "cell_type": "code",
   "execution_count": 2,
   "id": "75d4a9e2",
   "metadata": {},
   "outputs": [],
   "source": [
    "import sys\n",
    "\n",
    "if not sys.warnoptions:\n",
    "    import warnings\n",
    "    warnings.simplefilter(\"ignore\")"
   ]
  },
  {
   "cell_type": "code",
   "execution_count": 3,
   "id": "86a2e197",
   "metadata": {},
   "outputs": [
    {
     "data": {
      "text/html": [
       "<div>\n",
       "<style scoped>\n",
       "    .dataframe tbody tr th:only-of-type {\n",
       "        vertical-align: middle;\n",
       "    }\n",
       "\n",
       "    .dataframe tbody tr th {\n",
       "        vertical-align: top;\n",
       "    }\n",
       "\n",
       "    .dataframe thead th {\n",
       "        text-align: right;\n",
       "    }\n",
       "</style>\n",
       "<table border=\"1\" class=\"dataframe\">\n",
       "  <thead>\n",
       "    <tr style=\"text-align: right;\">\n",
       "      <th></th>\n",
       "      <th>Japan</th>\n",
       "    </tr>\n",
       "  </thead>\n",
       "  <tbody>\n",
       "    <tr>\n",
       "      <th>1985-01-01</th>\n",
       "      <td>0.003927</td>\n",
       "    </tr>\n",
       "    <tr>\n",
       "      <th>1985-02-01</th>\n",
       "      <td>0.003854</td>\n",
       "    </tr>\n",
       "    <tr>\n",
       "      <th>1985-03-01</th>\n",
       "      <td>0.003960</td>\n",
       "    </tr>\n",
       "    <tr>\n",
       "      <th>1985-04-01</th>\n",
       "      <td>0.003964</td>\n",
       "    </tr>\n",
       "    <tr>\n",
       "      <th>1985-05-01</th>\n",
       "      <td>0.003971</td>\n",
       "    </tr>\n",
       "    <tr>\n",
       "      <th>...</th>\n",
       "      <td>...</td>\n",
       "    </tr>\n",
       "    <tr>\n",
       "      <th>2022-07-01</th>\n",
       "      <td>0.007519</td>\n",
       "    </tr>\n",
       "    <tr>\n",
       "      <th>2022-08-01</th>\n",
       "      <td>0.007214</td>\n",
       "    </tr>\n",
       "    <tr>\n",
       "      <th>2022-09-01</th>\n",
       "      <td>0.006909</td>\n",
       "    </tr>\n",
       "    <tr>\n",
       "      <th>2022-10-01</th>\n",
       "      <td>0.006746</td>\n",
       "    </tr>\n",
       "    <tr>\n",
       "      <th>2022-11-01</th>\n",
       "      <td>0.007205</td>\n",
       "    </tr>\n",
       "  </tbody>\n",
       "</table>\n",
       "<p>455 rows × 1 columns</p>\n",
       "</div>"
      ],
      "text/plain": [
       "               Japan\n",
       "1985-01-01  0.003927\n",
       "1985-02-01  0.003854\n",
       "1985-03-01  0.003960\n",
       "1985-04-01  0.003964\n",
       "1985-05-01  0.003971\n",
       "...              ...\n",
       "2022-07-01  0.007519\n",
       "2022-08-01  0.007214\n",
       "2022-09-01  0.006909\n",
       "2022-10-01  0.006746\n",
       "2022-11-01  0.007205\n",
       "\n",
       "[455 rows x 1 columns]"
      ]
     },
     "execution_count": 3,
     "metadata": {},
     "output_type": "execute_result"
    }
   ],
   "source": [
    "df = pd.read_csv(\"A1_JPYUSD.csv\", parse_dates = True, index_col = 0)\n",
    "df"
   ]
  },
  {
   "cell_type": "code",
   "execution_count": 4,
   "id": "580020d2",
   "metadata": {},
   "outputs": [
    {
     "data": {
      "text/plain": [
       "<AxesSubplot:>"
      ]
     },
     "execution_count": 4,
     "metadata": {},
     "output_type": "execute_result"
    },
    {
     "data": {
      "image/png": "[encoded data removed]",
      "text/plain": [
       "<Figure size 432x288 with 1 Axes>"
      ]
     },
     "metadata": {
      "needs_background": "light"
     },
     "output_type": "display_data"
    }
   ],
   "source": [
    "df.plot()"
   ]
  },
  {
   "cell_type": "code",
   "execution_count": 5,
   "id": "bc6bb7e8",
   "metadata": {},
   "outputs": [
    {
     "data": {
      "text/plain": [
       "Japan    0\n",
       "dtype: int64"
      ]
     },
     "execution_count": 5,
     "metadata": {},
     "output_type": "execute_result"
    }
   ],
   "source": [
    "df.isna().sum()"
   ]
  },
  {
   "cell_type": "markdown",
   "id": "72320218",
   "metadata": {},
   "source": [
    "### Determine ARIMA hyperparameters"
   ]
  },
  {
   "cell_type": "code",
   "execution_count": 6,
   "id": "28a3f17e",
   "metadata": {},
   "outputs": [
    {
     "data": {
      "text/plain": [
       "(-3.0474242986679476,\n",
       " 0.030696697422626526,\n",
       " 11,\n",
       " 443,\n",
       " {'1%': -3.4451978474132234,\n",
       "  '5%': -2.8680864144212057,\n",
       "  '10%': -2.5702569996789792},\n",
       " -5950.11816566126)"
      ]
     },
     "execution_count": 6,
     "metadata": {},
     "output_type": "execute_result"
    }
   ],
   "source": [
    "from statsmodels.tsa.stattools import adfuller\n",
    "\n",
    "adfuller(df['Japan'])"
   ]
  },
  {
   "cell_type": "markdown",
   "id": "547a4d37",
   "metadata": {},
   "source": [
    "The dataset is stationary."
   ]
  },
  {
   "cell_type": "code",
   "execution_count": 7,
   "id": "94f69e05",
   "metadata": {},
   "outputs": [],
   "source": [
    "cut = int((len(df) * .8) //1)\n",
    "train_data = df[:cut]\n",
    "test_data = df[cut:]"
   ]
  },
  {
   "cell_type": "code",
   "execution_count": 8,
   "id": "46464f77",
   "metadata": {},
   "outputs": [
    {
     "data": {
      "text/plain": [
       "(-2.7960258068289927,\n",
       " 0.058843699553557914,\n",
       " 11,\n",
       " 352,\n",
       " {'1%': -3.4490648539347544,\n",
       "  '5%': -2.8697861692116478,\n",
       "  '10%': -2.5711631253228306},\n",
       " -4690.279002073191)"
      ]
     },
     "execution_count": 8,
     "metadata": {},
     "output_type": "execute_result"
    }
   ],
   "source": [
    "adfuller(train_data['Japan'])"
   ]
  },
  {
   "cell_type": "code",
   "execution_count": 9,
   "id": "90183b2e",
   "metadata": {},
   "outputs": [
    {
     "data": {
      "text/plain": [
       "(-0.694410394255295,\n",
       " 0.848192063992566,\n",
       " 0,\n",
       " 90,\n",
       " {'1%': -3.505190196159122,\n",
       "  '5%': -2.894232085048011,\n",
       "  '10%': -2.5842101234567902},\n",
       " -1096.9999186987409)"
      ]
     },
     "execution_count": 9,
     "metadata": {},
     "output_type": "execute_result"
    }
   ],
   "source": [
    "adfuller(test_data['Japan'])"
   ]
  },
  {
   "cell_type": "code",
   "execution_count": 10,
   "id": "7939bbf3",
   "metadata": {},
   "outputs": [
    {
     "data": {
      "text/plain": [
       "<AxesSubplot:>"
      ]
     },
     "execution_count": 10,
     "metadata": {},
     "output_type": "execute_result"
    },
    {
     "data": {
      "image/png": "[encoded data removed]",
      "text/plain": [
       "<Figure size 432x288 with 1 Axes>"
      ]
     },
     "metadata": {
      "needs_background": "light"
     },
     "output_type": "display_data"
    },
    {
     "data": {
      "image/png": "[encoded data removed]",
      "text/plain": [
       "<Figure size 432x288 with 1 Axes>"
      ]
     },
     "metadata": {
      "needs_background": "light"
     },
     "output_type": "display_data"
    }
   ],
   "source": [
    "train_data.plot()\n",
    "test_data.plot()"
   ]
  },
  {
   "cell_type": "markdown",
   "id": "974e2d48",
   "metadata": {},
   "source": [
    "The both train and test data are not stationary."
   ]
  },
  {
   "cell_type": "code",
   "execution_count": 11,
   "id": "11de259e",
   "metadata": {},
   "outputs": [
    {
     "data": {
      "text/html": [
       "<table class=\"simpletable\">\n",
       "<caption>SARIMAX Results</caption>\n",
       "<tr>\n",
       "  <th>Dep. Variable:</th>           <td>y</td>        <th>  No. Observations:  </th>    <td>364</td>   \n",
       "</tr>\n",
       "<tr>\n",
       "  <th>Model:</th>           <td>SARIMAX(2, 1, 0)</td> <th>  Log Likelihood     </th> <td>2462.691</td> \n",
       "</tr>\n",
       "<tr>\n",
       "  <th>Date:</th>            <td>Sat, 28 Jan 2023</td> <th>  AIC                </th> <td>-4919.383</td>\n",
       "</tr>\n",
       "<tr>\n",
       "  <th>Time:</th>                <td>06:15:09</td>     <th>  BIC                </th> <td>-4907.700</td>\n",
       "</tr>\n",
       "<tr>\n",
       "  <th>Sample:</th>             <td>01-01-1985</td>    <th>  HQIC               </th> <td>-4914.739</td>\n",
       "</tr>\n",
       "<tr>\n",
       "  <th></th>                   <td>- 04-01-2015</td>   <th>                     </th>     <td> </td>    \n",
       "</tr>\n",
       "<tr>\n",
       "  <th>Covariance Type:</th>        <td>opg</td>       <th>                     </th>     <td> </td>    \n",
       "</tr>\n",
       "</table>\n",
       "<table class=\"simpletable\">\n",
       "<tr>\n",
       "     <td></td>       <th>coef</th>     <th>std err</th>      <th>z</th>      <th>P>|z|</th>  <th>[0.025</th>    <th>0.975]</th>  \n",
       "</tr>\n",
       "<tr>\n",
       "  <th>ar.L1</th>  <td>    0.0900</td> <td>    0.045</td> <td>    2.018</td> <td> 0.044</td> <td>    0.003</td> <td>    0.177</td>\n",
       "</tr>\n",
       "<tr>\n",
       "  <th>ar.L2</th>  <td>    0.0947</td> <td>    0.050</td> <td>    1.898</td> <td> 0.058</td> <td>   -0.003</td> <td>    0.192</td>\n",
       "</tr>\n",
       "<tr>\n",
       "  <th>sigma2</th> <td> 7.494e-08</td> <td> 4.22e-09</td> <td>   17.775</td> <td> 0.000</td> <td> 6.67e-08</td> <td> 8.32e-08</td>\n",
       "</tr>\n",
       "</table>\n",
       "<table class=\"simpletable\">\n",
       "<tr>\n",
       "  <th>Ljung-Box (L1) (Q):</th>     <td>0.00</td> <th>  Jarque-Bera (JB):  </th> <td>39.98</td>\n",
       "</tr>\n",
       "<tr>\n",
       "  <th>Prob(Q):</th>                <td>0.96</td> <th>  Prob(JB):          </th> <td>0.00</td> \n",
       "</tr>\n",
       "<tr>\n",
       "  <th>Heteroskedasticity (H):</th> <td>1.47</td> <th>  Skew:              </th> <td>-0.12</td>\n",
       "</tr>\n",
       "<tr>\n",
       "  <th>Prob(H) (two-sided):</th>    <td>0.04</td> <th>  Kurtosis:          </th> <td>4.61</td> \n",
       "</tr>\n",
       "</table><br/><br/>Warnings:<br/>[1] Covariance matrix calculated using the outer product of gradients (complex-step)."
      ],
      "text/plain": [
       "<class 'statsmodels.iolib.summary.Summary'>\n",
       "\"\"\"\n",
       "                               SARIMAX Results                                \n",
       "==============================================================================\n",
       "Dep. Variable:                      y   No. Observations:                  364\n",
       "Model:               SARIMAX(2, 1, 0)   Log Likelihood                2462.691\n",
       "Date:                Sat, 28 Jan 2023   AIC                          -4919.383\n",
       "Time:                        06:15:09   BIC                          -4907.700\n",
       "Sample:                    01-01-1985   HQIC                         -4914.739\n",
       "                         - 04-01-2015                                         \n",
       "Covariance Type:                  opg                                         \n",
       "==============================================================================\n",
       "                 coef    std err          z      P>|z|      [0.025      0.975]\n",
       "------------------------------------------------------------------------------\n",
       "ar.L1          0.0900      0.045      2.018      0.044       0.003       0.177\n",
       "ar.L2          0.0947      0.050      1.898      0.058      -0.003       0.192\n",
       "sigma2      7.494e-08   4.22e-09     17.775      0.000    6.67e-08    8.32e-08\n",
       "===================================================================================\n",
       "Ljung-Box (L1) (Q):                   0.00   Jarque-Bera (JB):                39.98\n",
       "Prob(Q):                              0.96   Prob(JB):                         0.00\n",
       "Heteroskedasticity (H):               1.47   Skew:                            -0.12\n",
       "Prob(H) (two-sided):                  0.04   Kurtosis:                         4.61\n",
       "===================================================================================\n",
       "\n",
       "Warnings:\n",
       "[1] Covariance matrix calculated using the outer product of gradients (complex-step).\n",
       "\"\"\""
      ]
     },
     "execution_count": 11,
     "metadata": {},
     "output_type": "execute_result"
    }
   ],
   "source": [
    "import pmdarima as pm\n",
    "model = pm.auto_arima(train_data, start_p = 0, start_q = 0, test='adf', \n",
    "                      suppress_warnings=True)\n",
    "model.summary()"
   ]
  },
  {
   "cell_type": "code",
   "execution_count": 12,
   "id": "cffac4f0",
   "metadata": {},
   "outputs": [
    {
     "data": {
      "text/plain": [
       "(2, 1, 0)"
      ]
     },
     "execution_count": 12,
     "metadata": {},
     "output_type": "execute_result"
    }
   ],
   "source": [
    "model.order"
   ]
  },
  {
   "cell_type": "markdown",
   "id": "db836073",
   "metadata": {},
   "source": [
    "### Forecasting"
   ]
  },
  {
   "cell_type": "code",
   "execution_count": 13,
   "id": "a441f550",
   "metadata": {},
   "outputs": [],
   "source": [
    "def evaluate_arima_model(X, arima_order):\n",
    "    # prepare training dataset\n",
    "    train_size = int(len(X) * 0.8)\n",
    "    train, test = X[0:train_size], X[train_size:]\n",
    "    history = [x for x in train]\n",
    "    \n",
    "    predictions = list()\n",
    "    upper = list()\n",
    "    lower = list()\n",
    "    for t in range(len(test)):\n",
    "        model = ARIMA(history, order=arima_order)\n",
    "        model_fit = model.fit()\n",
    "        forecasts = model_fit.get_forecast()\n",
    "        yhat_conf_int = forecasts.conf_int(alpha=0.1)\n",
    "        yhat = forecasts.predicted_mean\n",
    "        predictions.append(yhat[0])\n",
    "        lower.append(yhat_conf_int[0][0])\n",
    "        upper.append(yhat_conf_int[0][1])\n",
    "        history.append(test[t])\n",
    "    \n",
    "    test = pd.DataFrame(test)\n",
    "    test[\"lower\"] = lower\n",
    "    test[\"prediction\"] = predictions\n",
    "    test[\"upper\"] = upper\n",
    "    return test"
   ]
  },
  {
   "cell_type": "code",
   "execution_count": 14,
   "id": "ddfe84e0",
   "metadata": {},
   "outputs": [],
   "source": [
    "y = evaluate_arima_model(df['Japan'], (2,1,0))"
   ]
  },
  {
   "cell_type": "code",
   "execution_count": 15,
   "id": "ebabd95e",
   "metadata": {},
   "outputs": [
    {
     "data": {
      "text/html": [
       "<div>\n",
       "<style scoped>\n",
       "    .dataframe tbody tr th:only-of-type {\n",
       "        vertical-align: middle;\n",
       "    }\n",
       "\n",
       "    .dataframe tbody tr th {\n",
       "        vertical-align: top;\n",
       "    }\n",
       "\n",
       "    .dataframe thead th {\n",
       "        text-align: right;\n",
       "    }\n",
       "</style>\n",
       "<table border=\"1\" class=\"dataframe\">\n",
       "  <thead>\n",
       "    <tr style=\"text-align: right;\">\n",
       "      <th></th>\n",
       "      <th>Japan</th>\n",
       "      <th>lower</th>\n",
       "      <th>prediction</th>\n",
       "      <th>upper</th>\n",
       "    </tr>\n",
       "  </thead>\n",
       "  <tbody>\n",
       "    <tr>\n",
       "      <th>2015-05-01</th>\n",
       "      <td>0.008081</td>\n",
       "      <td>0.007992</td>\n",
       "      <td>0.008443</td>\n",
       "      <td>0.008893</td>\n",
       "    </tr>\n",
       "    <tr>\n",
       "      <th>2015-06-01</th>\n",
       "      <td>0.008167</td>\n",
       "      <td>0.007609</td>\n",
       "      <td>0.008060</td>\n",
       "      <td>0.008510</td>\n",
       "    </tr>\n",
       "    <tr>\n",
       "      <th>2015-07-01</th>\n",
       "      <td>0.008066</td>\n",
       "      <td>0.007690</td>\n",
       "      <td>0.008140</td>\n",
       "      <td>0.008590</td>\n",
       "    </tr>\n",
       "    <tr>\n",
       "      <th>2015-08-01</th>\n",
       "      <td>0.008251</td>\n",
       "      <td>0.007616</td>\n",
       "      <td>0.008066</td>\n",
       "      <td>0.008516</td>\n",
       "    </tr>\n",
       "    <tr>\n",
       "      <th>2015-09-01</th>\n",
       "      <td>0.008337</td>\n",
       "      <td>0.007808</td>\n",
       "      <td>0.008257</td>\n",
       "      <td>0.008706</td>\n",
       "    </tr>\n",
       "    <tr>\n",
       "      <th>...</th>\n",
       "      <td>...</td>\n",
       "      <td>...</td>\n",
       "      <td>...</td>\n",
       "      <td>...</td>\n",
       "    </tr>\n",
       "    <tr>\n",
       "      <th>2022-07-01</th>\n",
       "      <td>0.007519</td>\n",
       "      <td>0.006856</td>\n",
       "      <td>0.007285</td>\n",
       "      <td>0.007715</td>\n",
       "    </tr>\n",
       "    <tr>\n",
       "      <th>2022-08-01</th>\n",
       "      <td>0.007214</td>\n",
       "      <td>0.007062</td>\n",
       "      <td>0.007491</td>\n",
       "      <td>0.007921</td>\n",
       "    </tr>\n",
       "    <tr>\n",
       "      <th>2022-09-01</th>\n",
       "      <td>0.006909</td>\n",
       "      <td>0.006779</td>\n",
       "      <td>0.007208</td>\n",
       "      <td>0.007638</td>\n",
       "    </tr>\n",
       "    <tr>\n",
       "      <th>2022-10-01</th>\n",
       "      <td>0.006746</td>\n",
       "      <td>0.006424</td>\n",
       "      <td>0.006853</td>\n",
       "      <td>0.007283</td>\n",
       "    </tr>\n",
       "    <tr>\n",
       "      <th>2022-11-01</th>\n",
       "      <td>0.007205</td>\n",
       "      <td>0.006273</td>\n",
       "      <td>0.006702</td>\n",
       "      <td>0.007131</td>\n",
       "    </tr>\n",
       "  </tbody>\n",
       "</table>\n",
       "<p>91 rows × 4 columns</p>\n",
       "</div>"
      ],
      "text/plain": [
       "               Japan     lower  prediction     upper\n",
       "2015-05-01  0.008081  0.007992    0.008443  0.008893\n",
       "2015-06-01  0.008167  0.007609    0.008060  0.008510\n",
       "2015-07-01  0.008066  0.007690    0.008140  0.008590\n",
       "2015-08-01  0.008251  0.007616    0.008066  0.008516\n",
       "2015-09-01  0.008337  0.007808    0.008257  0.008706\n",
       "...              ...       ...         ...       ...\n",
       "2022-07-01  0.007519  0.006856    0.007285  0.007715\n",
       "2022-08-01  0.007214  0.007062    0.007491  0.007921\n",
       "2022-09-01  0.006909  0.006779    0.007208  0.007638\n",
       "2022-10-01  0.006746  0.006424    0.006853  0.007283\n",
       "2022-11-01  0.007205  0.006273    0.006702  0.007131\n",
       "\n",
       "[91 rows x 4 columns]"
      ]
     },
     "execution_count": 15,
     "metadata": {},
     "output_type": "execute_result"
    }
   ],
   "source": [
    "y "
   ]
  },
  {
   "cell_type": "markdown",
   "id": "667467b2",
   "metadata": {},
   "source": [
    "### Backtest"
   ]
  },
  {
   "cell_type": "code",
   "execution_count": 16,
   "id": "2e1f36cf",
   "metadata": {},
   "outputs": [
    {
     "data": {
      "text/plain": [
       "2015-05-01          NaN\n",
       "2015-06-01    -1.050505\n",
       "2015-07-01     0.177778\n",
       "2015-08-01    -2.060606\n",
       "2015-09-01    -1.039979\n",
       "                ...    \n",
       "2022-07-01    34.116372\n",
       "2022-08-01    39.773461\n",
       "2022-09-01    45.954915\n",
       "2022-10-01    49.484293\n",
       "2022-11-01    39.965056\n",
       "Name: Cumulative Returns, Length: 91, dtype: float64"
      ]
     },
     "execution_count": 16,
     "metadata": {},
     "output_type": "execute_result"
    }
   ],
   "source": [
    "y[\"Signals\"] = np.where(y[\"prediction\"]>y['Japan'].shift(), 1,-1)\n",
    "y[\"returns\"] = np.log(y[\"Japan\"]/y[\"Japan\"].shift())\n",
    "y[\"strategy returns\"] = y[\"Signals\"]*y[\"returns\"]\n",
    "y[\"Cumulative Returns\"] = (np.exp(y[\"strategy returns\"].cumsum())-1)*100\n",
    "y[\"Cumulative Returns\"]"
   ]
  },
  {
   "cell_type": "code",
   "execution_count": 17,
   "id": "7be0292e",
   "metadata": {},
   "outputs": [
    {
     "data": {
      "image/png": "[encoded data removed]",
      "text/plain": [
       "<Figure size 1080x432 with 1 Axes>"
      ]
     },
     "metadata": {
      "needs_background": "light"
     },
     "output_type": "display_data"
    }
   ],
   "source": [
    "plt.figure(figsize = (15, 6))\n",
    "plt.plot(y[\"Cumulative Returns\"])\n",
    "plt.plot((np.exp(y[\"returns\"].cumsum())-1)*100)\n",
    "plt.ylabel(\"Cumulative Returns (%)\")\n",
    "plt.title(\"ARIMA Strategy Performance vs Buy and Hold (JPYUSD)\")\n",
    "plt.legend([\"Equity Line\", \"Buy and Hold Euro\"])\n",
    "plt.grid()"
   ]
  },
  {
   "cell_type": "markdown",
   "id": "975db70d",
   "metadata": {},
   "source": [
    "### CCROR"
   ]
  },
  {
   "cell_type": "code",
   "execution_count": 18,
   "id": "e72c2493",
   "metadata": {},
   "outputs": [
    {
     "name": "stdout",
     "output_type": "stream",
     "text": [
      "4.433704663592737\n"
     ]
    }
   ],
   "source": [
    "P = 1000000\n",
    "A = (((y[\"Cumulative Returns\"]/100)+1)*P)[-1]\n",
    "t = (len(y)/12)\n",
    "CCROR = np.log(A/P)/t\n",
    "print(CCROR*100)"
   ]
  },
  {
   "cell_type": "code",
   "execution_count": 19,
   "id": "7e188f1f",
   "metadata": {},
   "outputs": [
    {
     "data": {
      "text/plain": [
       "4.533462203765626"
      ]
     },
     "execution_count": 19,
     "metadata": {},
     "output_type": "execute_result"
    }
   ],
   "source": [
    "((A/P)**(1/t)-1)*100"
   ]
  },
  {
   "cell_type": "markdown",
   "id": "328483f6",
   "metadata": {},
   "source": [
    "### DMW"
   ]
  },
  {
   "cell_type": "code",
   "execution_count": 20,
   "id": "1b275851",
   "metadata": {},
   "outputs": [],
   "source": [
    "y['change'] = y.Japan - y.Japan.shift()\n",
    "y['error'] = y['change'] - (y.prediction - y.Japan.shift())\n",
    "y['change_fit'] = y.prediction - y.Japan.shift()"
   ]
  },
  {
   "cell_type": "code",
   "execution_count": 21,
   "id": "b40e4855",
   "metadata": {},
   "outputs": [
    {
     "data": {
      "text/html": [
       "<div>\n",
       "<style scoped>\n",
       "    .dataframe tbody tr th:only-of-type {\n",
       "        vertical-align: middle;\n",
       "    }\n",
       "\n",
       "    .dataframe tbody tr th {\n",
       "        vertical-align: top;\n",
       "    }\n",
       "\n",
       "    .dataframe thead th {\n",
       "        text-align: right;\n",
       "    }\n",
       "</style>\n",
       "<table border=\"1\" class=\"dataframe\">\n",
       "  <thead>\n",
       "    <tr style=\"text-align: right;\">\n",
       "      <th></th>\n",
       "      <th>Japan</th>\n",
       "      <th>lower</th>\n",
       "      <th>prediction</th>\n",
       "      <th>upper</th>\n",
       "      <th>Signals</th>\n",
       "      <th>returns</th>\n",
       "      <th>strategy returns</th>\n",
       "      <th>Cumulative Returns</th>\n",
       "      <th>change</th>\n",
       "      <th>error</th>\n",
       "      <th>change_fit</th>\n",
       "    </tr>\n",
       "  </thead>\n",
       "  <tbody>\n",
       "    <tr>\n",
       "      <th>2015-05-01</th>\n",
       "      <td>0.008081</td>\n",
       "      <td>0.007992</td>\n",
       "      <td>0.008443</td>\n",
       "      <td>0.008893</td>\n",
       "      <td>-1</td>\n",
       "      <td>NaN</td>\n",
       "      <td>NaN</td>\n",
       "      <td>NaN</td>\n",
       "      <td>NaN</td>\n",
       "      <td>NaN</td>\n",
       "      <td>NaN</td>\n",
       "    </tr>\n",
       "    <tr>\n",
       "      <th>2015-06-01</th>\n",
       "      <td>0.008167</td>\n",
       "      <td>0.007609</td>\n",
       "      <td>0.008060</td>\n",
       "      <td>0.008510</td>\n",
       "      <td>-1</td>\n",
       "      <td>0.010561</td>\n",
       "      <td>-0.010561</td>\n",
       "      <td>-1.050505</td>\n",
       "      <td>0.000086</td>\n",
       "      <td>0.000107</td>\n",
       "      <td>-2.085781e-05</td>\n",
       "    </tr>\n",
       "    <tr>\n",
       "      <th>2015-07-01</th>\n",
       "      <td>0.008066</td>\n",
       "      <td>0.007690</td>\n",
       "      <td>0.008140</td>\n",
       "      <td>0.008590</td>\n",
       "      <td>-1</td>\n",
       "      <td>-0.012337</td>\n",
       "      <td>0.012337</td>\n",
       "      <td>0.177778</td>\n",
       "      <td>-0.000100</td>\n",
       "      <td>-0.000073</td>\n",
       "      <td>-2.690069e-05</td>\n",
       "    </tr>\n",
       "    <tr>\n",
       "      <th>2015-08-01</th>\n",
       "      <td>0.008251</td>\n",
       "      <td>0.007616</td>\n",
       "      <td>0.008066</td>\n",
       "      <td>0.008516</td>\n",
       "      <td>-1</td>\n",
       "      <td>0.022598</td>\n",
       "      <td>-0.022598</td>\n",
       "      <td>-2.060606</td>\n",
       "      <td>0.000184</td>\n",
       "      <td>0.000185</td>\n",
       "      <td>-3.476334e-07</td>\n",
       "    </tr>\n",
       "    <tr>\n",
       "      <th>2015-09-01</th>\n",
       "      <td>0.008337</td>\n",
       "      <td>0.007808</td>\n",
       "      <td>0.008257</td>\n",
       "      <td>0.008706</td>\n",
       "      <td>1</td>\n",
       "      <td>0.010367</td>\n",
       "      <td>0.010367</td>\n",
       "      <td>-1.039979</td>\n",
       "      <td>0.000086</td>\n",
       "      <td>0.000080</td>\n",
       "      <td>6.060443e-06</td>\n",
       "    </tr>\n",
       "    <tr>\n",
       "      <th>...</th>\n",
       "      <td>...</td>\n",
       "      <td>...</td>\n",
       "      <td>...</td>\n",
       "      <td>...</td>\n",
       "      <td>...</td>\n",
       "      <td>...</td>\n",
       "      <td>...</td>\n",
       "      <td>...</td>\n",
       "      <td>...</td>\n",
       "      <td>...</td>\n",
       "      <td>...</td>\n",
       "    </tr>\n",
       "    <tr>\n",
       "      <th>2022-07-01</th>\n",
       "      <td>0.007519</td>\n",
       "      <td>0.006856</td>\n",
       "      <td>0.007285</td>\n",
       "      <td>0.007715</td>\n",
       "      <td>-1</td>\n",
       "      <td>0.026927</td>\n",
       "      <td>-0.026927</td>\n",
       "      <td>34.116372</td>\n",
       "      <td>0.000200</td>\n",
       "      <td>0.000234</td>\n",
       "      <td>-3.383881e-05</td>\n",
       "    </tr>\n",
       "    <tr>\n",
       "      <th>2022-08-01</th>\n",
       "      <td>0.007214</td>\n",
       "      <td>0.007062</td>\n",
       "      <td>0.007491</td>\n",
       "      <td>0.007921</td>\n",
       "      <td>-1</td>\n",
       "      <td>-0.041315</td>\n",
       "      <td>0.041315</td>\n",
       "      <td>39.773461</td>\n",
       "      <td>-0.000304</td>\n",
       "      <td>-0.000277</td>\n",
       "      <td>-2.756801e-05</td>\n",
       "    </tr>\n",
       "    <tr>\n",
       "      <th>2022-09-01</th>\n",
       "      <td>0.006909</td>\n",
       "      <td>0.006779</td>\n",
       "      <td>0.007208</td>\n",
       "      <td>0.007638</td>\n",
       "      <td>-1</td>\n",
       "      <td>-0.043275</td>\n",
       "      <td>0.043275</td>\n",
       "      <td>45.954915</td>\n",
       "      <td>-0.000306</td>\n",
       "      <td>-0.000299</td>\n",
       "      <td>-6.056780e-06</td>\n",
       "    </tr>\n",
       "    <tr>\n",
       "      <th>2022-10-01</th>\n",
       "      <td>0.006746</td>\n",
       "      <td>0.006424</td>\n",
       "      <td>0.006853</td>\n",
       "      <td>0.007283</td>\n",
       "      <td>-1</td>\n",
       "      <td>-0.023894</td>\n",
       "      <td>0.023894</td>\n",
       "      <td>49.484293</td>\n",
       "      <td>-0.000163</td>\n",
       "      <td>-0.000108</td>\n",
       "      <td>-5.557997e-05</td>\n",
       "    </tr>\n",
       "    <tr>\n",
       "      <th>2022-11-01</th>\n",
       "      <td>0.007205</td>\n",
       "      <td>0.006273</td>\n",
       "      <td>0.006702</td>\n",
       "      <td>0.007131</td>\n",
       "      <td>-1</td>\n",
       "      <td>0.065799</td>\n",
       "      <td>-0.065799</td>\n",
       "      <td>39.965056</td>\n",
       "      <td>0.000459</td>\n",
       "      <td>0.000503</td>\n",
       "      <td>-4.375258e-05</td>\n",
       "    </tr>\n",
       "  </tbody>\n",
       "</table>\n",
       "<p>91 rows × 11 columns</p>\n",
       "</div>"
      ],
      "text/plain": [
       "               Japan     lower  prediction     upper  Signals   returns  \\\n",
       "2015-05-01  0.008081  0.007992    0.008443  0.008893       -1       NaN   \n",
       "2015-06-01  0.008167  0.007609    0.008060  0.008510       -1  0.010561   \n",
       "2015-07-01  0.008066  0.007690    0.008140  0.008590       -1 -0.012337   \n",
       "2015-08-01  0.008251  0.007616    0.008066  0.008516       -1  0.022598   \n",
       "2015-09-01  0.008337  0.007808    0.008257  0.008706        1  0.010367   \n",
       "...              ...       ...         ...       ...      ...       ...   \n",
       "2022-07-01  0.007519  0.006856    0.007285  0.007715       -1  0.026927   \n",
       "2022-08-01  0.007214  0.007062    0.007491  0.007921       -1 -0.041315   \n",
       "2022-09-01  0.006909  0.006779    0.007208  0.007638       -1 -0.043275   \n",
       "2022-10-01  0.006746  0.006424    0.006853  0.007283       -1 -0.023894   \n",
       "2022-11-01  0.007205  0.006273    0.006702  0.007131       -1  0.065799   \n",
       "\n",
       "            strategy returns  Cumulative Returns    change     error  \\\n",
       "2015-05-01               NaN                 NaN       NaN       NaN   \n",
       "2015-06-01         -0.010561           -1.050505  0.000086  0.000107   \n",
       "2015-07-01          0.012337            0.177778 -0.000100 -0.000073   \n",
       "2015-08-01         -0.022598           -2.060606  0.000184  0.000185   \n",
       "2015-09-01          0.010367           -1.039979  0.000086  0.000080   \n",
       "...                      ...                 ...       ...       ...   \n",
       "2022-07-01         -0.026927           34.116372  0.000200  0.000234   \n",
       "2022-08-01          0.041315           39.773461 -0.000304 -0.000277   \n",
       "2022-09-01          0.043275           45.954915 -0.000306 -0.000299   \n",
       "2022-10-01          0.023894           49.484293 -0.000163 -0.000108   \n",
       "2022-11-01         -0.065799           39.965056  0.000459  0.000503   \n",
       "\n",
       "              change_fit  \n",
       "2015-05-01           NaN  \n",
       "2015-06-01 -2.085781e-05  \n",
       "2015-07-01 -2.690069e-05  \n",
       "2015-08-01 -3.476334e-07  \n",
       "2015-09-01  6.060443e-06  \n",
       "...                  ...  \n",
       "2022-07-01 -3.383881e-05  \n",
       "2022-08-01 -2.756801e-05  \n",
       "2022-09-01 -6.056780e-06  \n",
       "2022-10-01 -5.557997e-05  \n",
       "2022-11-01 -4.375258e-05  \n",
       "\n",
       "[91 rows x 11 columns]"
      ]
     },
     "execution_count": 21,
     "metadata": {},
     "output_type": "execute_result"
    }
   ],
   "source": [
    "y"
   ]
  },
  {
   "cell_type": "code",
   "execution_count": 22,
   "id": "79cbd3d8",
   "metadata": {},
   "outputs": [
    {
     "data": {
      "text/plain": [
       "4.215419734415691e-08"
      ]
     },
     "execution_count": 22,
     "metadata": {},
     "output_type": "execute_result"
    }
   ],
   "source": [
    "# Taylor Rule Model\n",
    "P = len(y['error'])\n",
    "MSE_T = np.sum(np.square(y['error']))/P\n",
    "MSE_T"
   ]
  },
  {
   "cell_type": "code",
   "execution_count": 23,
   "id": "baafbca0",
   "metadata": {},
   "outputs": [
    {
     "data": {
      "text/plain": [
       "4.2298705334510525e-08"
      ]
     },
     "execution_count": 23,
     "metadata": {},
     "output_type": "execute_result"
    }
   ],
   "source": [
    "# Random Walk\n",
    "MSE_R = np.sum(np.square(y['change']))/P\n",
    "MSE_R"
   ]
  },
  {
   "cell_type": "code",
   "execution_count": 24,
   "id": "fb410c8e",
   "metadata": {},
   "outputs": [],
   "source": [
    "error_R = y['change'].reset_index(drop=True)\n",
    "error_T = y['error'].reset_index(drop=True)\n",
    "tmp = np.square(error_R) - np.square(error_T) - (MSE_R - MSE_T)\n",
    "V_hat = np.sum(np.square(tmp))/P"
   ]
  },
  {
   "cell_type": "code",
   "execution_count": 25,
   "id": "ae9ee155",
   "metadata": {},
   "outputs": [
    {
     "name": "stdout",
     "output_type": "stream",
     "text": [
      "Since the DMW statitsic is equal to 0.11174596641004998, which is less than the critical value (1.64),\n",
      "we fail to reject the null hypothesis that the MP model does not outperform the random walk model.\n"
     ]
    }
   ],
   "source": [
    "## DMW Statistic\n",
    "DMW = (MSE_R - MSE_T)/np.sqrt(V_hat/P)\n",
    "\n",
    "print('Since the DMW statitsic is equal to ' + str(DMW) + ',' + ' which is less than the critical value (' + str(round(st.norm.ppf(.95),2)) + '),')\n",
    "print('we fail to reject the null hypothesis that the MP model does not outperform the random walk model.')"
   ]
  },
  {
   "cell_type": "code",
   "execution_count": 26,
   "id": "6a05d882",
   "metadata": {},
   "outputs": [
    {
     "name": "stdout",
     "output_type": "stream",
     "text": [
      "Since the CW statitsic is equal to 0.6907368245783108, which is less than the critical value (1.64),\n",
      "we fail to reject the null hypothesis that the MP model does not outperform the random walk model.\n"
     ]
    }
   ],
   "source": [
    "### CW statistic\n",
    "tmp2 = np.sum(np.square(y['change_fit']))/P\n",
    "CW = (MSE_R - MSE_T + tmp2)/np.sqrt(V_hat/P)\n",
    "\n",
    "print('Since the CW statitsic is equal to ' + str(CW) + ',' + ' which is less than the critical value (' + str(round(st.norm.ppf(.95),2)) + '),')\n",
    "print('we fail to reject the null hypothesis that the MP model does not outperform the random walk model.')"
   ]
  },
  {
   "cell_type": "markdown",
   "id": "43f4f7cd",
   "metadata": {},
   "source": [
    "### Sharpe ratio"
   ]
  },
  {
   "cell_type": "code",
   "execution_count": 35,
   "id": "b54e39ae",
   "metadata": {},
   "outputs": [
    {
     "data": {
      "text/html": [
       "<div>\n",
       "<style scoped>\n",
       "    .dataframe tbody tr th:only-of-type {\n",
       "        vertical-align: middle;\n",
       "    }\n",
       "\n",
       "    .dataframe tbody tr th {\n",
       "        vertical-align: top;\n",
       "    }\n",
       "\n",
       "    .dataframe thead th {\n",
       "        text-align: right;\n",
       "    }\n",
       "</style>\n",
       "<table border=\"1\" class=\"dataframe\">\n",
       "  <thead>\n",
       "    <tr style=\"text-align: right;\">\n",
       "      <th></th>\n",
       "      <th>value</th>\n",
       "    </tr>\n",
       "    <tr>\n",
       "      <th>date</th>\n",
       "      <th></th>\n",
       "    </tr>\n",
       "  </thead>\n",
       "  <tbody>\n",
       "    <tr>\n",
       "      <th>1962-01-02</th>\n",
       "      <td>3.22</td>\n",
       "    </tr>\n",
       "    <tr>\n",
       "      <th>1962-01-03</th>\n",
       "      <td>3.24</td>\n",
       "    </tr>\n",
       "    <tr>\n",
       "      <th>1962-01-04</th>\n",
       "      <td>3.24</td>\n",
       "    </tr>\n",
       "    <tr>\n",
       "      <th>1962-01-05</th>\n",
       "      <td>3.26</td>\n",
       "    </tr>\n",
       "    <tr>\n",
       "      <th>1962-01-08</th>\n",
       "      <td>3.31</td>\n",
       "    </tr>\n",
       "  </tbody>\n",
       "</table>\n",
       "</div>"
      ],
      "text/plain": [
       "             value\n",
       "date              \n",
       "1962-01-02    3.22\n",
       "1962-01-03    3.24\n",
       "1962-01-04    3.24\n",
       "1962-01-05    3.26\n",
       "1962-01-08    3.31"
      ]
     },
     "execution_count": 35,
     "metadata": {},
     "output_type": "execute_result"
    }
   ],
   "source": [
    "rf_rate = pd.read_csv(\"1-year-treasury-rate-yield-chart.csv\", index_col = 0, parse_dates = True).dropna()\n",
    "rf_rate.head()"
   ]
  },
  {
   "cell_type": "code",
   "execution_count": 36,
   "id": "aaaf7503",
   "metadata": {},
   "outputs": [],
   "source": [
    "yrf = y[['Japan', 'prediction', 'returns']]"
   ]
  },
  {
   "cell_type": "code",
   "execution_count": 64,
   "id": "f38eeb28",
   "metadata": {},
   "outputs": [],
   "source": [
    "drange = pd.date_range(start = \"2015/04/01\", periods = 91, freq = \"M\")\n",
    "yrf.index = drange\n",
    "yrf[\"rf\"] = rf_rate"
   ]
  },
  {
   "cell_type": "code",
   "execution_count": 65,
   "id": "74020869",
   "metadata": {},
   "outputs": [
    {
     "data": {
      "text/html": [
       "<div>\n",
       "<style scoped>\n",
       "    .dataframe tbody tr th:only-of-type {\n",
       "        vertical-align: middle;\n",
       "    }\n",
       "\n",
       "    .dataframe tbody tr th {\n",
       "        vertical-align: top;\n",
       "    }\n",
       "\n",
       "    .dataframe thead th {\n",
       "        text-align: right;\n",
       "    }\n",
       "</style>\n",
       "<table border=\"1\" class=\"dataframe\">\n",
       "  <thead>\n",
       "    <tr style=\"text-align: right;\">\n",
       "      <th></th>\n",
       "      <th>Japan</th>\n",
       "      <th>prediction</th>\n",
       "      <th>returns</th>\n",
       "      <th>rf</th>\n",
       "    </tr>\n",
       "  </thead>\n",
       "  <tbody>\n",
       "    <tr>\n",
       "      <th>2015-04-30</th>\n",
       "      <td>0.008081</td>\n",
       "      <td>0.008443</td>\n",
       "      <td>NaN</td>\n",
       "      <td>0.24</td>\n",
       "    </tr>\n",
       "    <tr>\n",
       "      <th>2015-05-31</th>\n",
       "      <td>0.008167</td>\n",
       "      <td>0.008060</td>\n",
       "      <td>0.010561</td>\n",
       "      <td>NaN</td>\n",
       "    </tr>\n",
       "    <tr>\n",
       "      <th>2015-06-30</th>\n",
       "      <td>0.008066</td>\n",
       "      <td>0.008140</td>\n",
       "      <td>-0.012337</td>\n",
       "      <td>0.28</td>\n",
       "    </tr>\n",
       "    <tr>\n",
       "      <th>2015-07-31</th>\n",
       "      <td>0.008251</td>\n",
       "      <td>0.008066</td>\n",
       "      <td>0.022598</td>\n",
       "      <td>0.33</td>\n",
       "    </tr>\n",
       "    <tr>\n",
       "      <th>2015-08-31</th>\n",
       "      <td>0.008337</td>\n",
       "      <td>0.008257</td>\n",
       "      <td>0.010367</td>\n",
       "      <td>0.39</td>\n",
       "    </tr>\n",
       "    <tr>\n",
       "      <th>...</th>\n",
       "      <td>...</td>\n",
       "      <td>...</td>\n",
       "      <td>...</td>\n",
       "      <td>...</td>\n",
       "    </tr>\n",
       "    <tr>\n",
       "      <th>2022-06-30</th>\n",
       "      <td>0.007519</td>\n",
       "      <td>0.007285</td>\n",
       "      <td>0.026927</td>\n",
       "      <td>2.80</td>\n",
       "    </tr>\n",
       "    <tr>\n",
       "      <th>2022-07-31</th>\n",
       "      <td>0.007214</td>\n",
       "      <td>0.007491</td>\n",
       "      <td>-0.041315</td>\n",
       "      <td>NaN</td>\n",
       "    </tr>\n",
       "    <tr>\n",
       "      <th>2022-08-31</th>\n",
       "      <td>0.006909</td>\n",
       "      <td>0.007208</td>\n",
       "      <td>-0.043275</td>\n",
       "      <td>3.50</td>\n",
       "    </tr>\n",
       "    <tr>\n",
       "      <th>2022-09-30</th>\n",
       "      <td>0.006746</td>\n",
       "      <td>0.006853</td>\n",
       "      <td>-0.023894</td>\n",
       "      <td>4.05</td>\n",
       "    </tr>\n",
       "    <tr>\n",
       "      <th>2022-10-31</th>\n",
       "      <td>0.007205</td>\n",
       "      <td>0.006702</td>\n",
       "      <td>0.065799</td>\n",
       "      <td>4.66</td>\n",
       "    </tr>\n",
       "  </tbody>\n",
       "</table>\n",
       "<p>91 rows × 4 columns</p>\n",
       "</div>"
      ],
      "text/plain": [
       "               Japan  prediction   returns    rf\n",
       "2015-04-30  0.008081    0.008443       NaN  0.24\n",
       "2015-05-31  0.008167    0.008060  0.010561   NaN\n",
       "2015-06-30  0.008066    0.008140 -0.012337  0.28\n",
       "2015-07-31  0.008251    0.008066  0.022598  0.33\n",
       "2015-08-31  0.008337    0.008257  0.010367  0.39\n",
       "...              ...         ...       ...   ...\n",
       "2022-06-30  0.007519    0.007285  0.026927  2.80\n",
       "2022-07-31  0.007214    0.007491 -0.041315   NaN\n",
       "2022-08-31  0.006909    0.007208 -0.043275  3.50\n",
       "2022-09-30  0.006746    0.006853 -0.023894  4.05\n",
       "2022-10-31  0.007205    0.006702  0.065799  4.66\n",
       "\n",
       "[91 rows x 4 columns]"
      ]
     },
     "execution_count": 65,
     "metadata": {},
     "output_type": "execute_result"
    }
   ],
   "source": [
    "yrf"
   ]
  },
  {
   "cell_type": "code",
   "execution_count": 66,
   "id": "f2a7a255",
   "metadata": {},
   "outputs": [],
   "source": [
    "rfs = yrf[\"rf\"].resample(\"Y\").first()[1:-1]"
   ]
  },
  {
   "cell_type": "code",
   "execution_count": 67,
   "id": "2ab7e75c",
   "metadata": {},
   "outputs": [
    {
     "data": {
      "text/plain": [
       "0.012214472324448389"
      ]
     },
     "execution_count": 67,
     "metadata": {},
     "output_type": "execute_result"
    }
   ],
   "source": [
    "t = len(rfs)\n",
    "rfp = ((((rfs/100)+1).cumprod()[-1])**(1/t)-1)\n",
    "rfp"
   ]
  },
  {
   "cell_type": "code",
   "execution_count": 68,
   "id": "0c4a5355",
   "metadata": {},
   "outputs": [],
   "source": [
    "yrf[\"rf\"] = rf_rate\n",
    "yrf[\"rf\"] = yrf[\"rf\"].ffill()"
   ]
  },
  {
   "cell_type": "code",
   "execution_count": 69,
   "id": "27dfa4c6",
   "metadata": {},
   "outputs": [],
   "source": [
    "return_frame = yrf[[\"returns\"]].copy().dropna()\n",
    "return_frame[\"rf\"] = (yrf[[\"rf\"]].dropna()/100+1)**(1/12)-1\n",
    "excess_return = return_frame[\"returns\"]- return_frame[\"rf\"]"
   ]
  },
  {
   "cell_type": "code",
   "execution_count": 70,
   "id": "412e5596",
   "metadata": {},
   "outputs": [
    {
     "data": {
      "text/plain": [
       "-3.000696437314021"
      ]
     },
     "execution_count": 70,
     "metadata": {},
     "output_type": "execute_result"
    }
   ],
   "source": [
    "anualized_excess = ((excess_return+1).prod()**(12/len(yrf))-1)*100\n",
    "anualized_excess"
   ]
  },
  {
   "cell_type": "code",
   "execution_count": 71,
   "id": "89e6ce11",
   "metadata": {},
   "outputs": [
    {
     "name": "stdout",
     "output_type": "stream",
     "text": [
      "-0.3557389203836914\n"
     ]
    }
   ],
   "source": [
    "excess_ann_std = excess_return.std()*np.sqrt(12)*100\n",
    "print((anualized_excess)/excess_ann_std)"
   ]
  },
  {
   "cell_type": "code",
   "execution_count": 72,
   "id": "a3cf644d",
   "metadata": {},
   "outputs": [
    {
     "data": {
      "text/plain": [
       "-0.3214385221869183"
      ]
     },
     "execution_count": 72,
     "metadata": {},
     "output_type": "execute_result"
    }
   ],
   "source": [
    "n = len(excess_return)\n",
    "mean = excess_return.mean()\n",
    "std = np.sqrt(np.sum(np.square(excess_return))/(n-1))\n",
    "mean/std*np.sqrt(12)"
   ]
  }
 ],
 "metadata": {
  "kernelspec": {
   "display_name": "Python 3 (ipykernel)",
   "language": "python",
   "name": "python3"
  },
  "language_info": {
   "codemirror_mode": {
    "name": "ipython",
    "version": 3
   },
   "file_extension": ".py",
   "mimetype": "text/x-python",
   "name": "python",
   "nbconvert_exporter": "python",
   "pygments_lexer": "ipython3",
   "version": "3.9.12"
  }
 },
 "nbformat": 4,
 "nbformat_minor": 5
}
