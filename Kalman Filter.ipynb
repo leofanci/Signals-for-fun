{
 "cells": [
  {
   "cell_type": "markdown",
   "id": "29c02994",
   "metadata": {},
   "source": [
    "# Kalman Filter"
   ]
  },
  {
   "cell_type": "code",
   "execution_count": 130,
   "id": "a34219bc",
   "metadata": {},
   "outputs": [],
   "source": [
    "import yfinance as yf\n",
    "import matplotlib.pyplot as plt\n",
    "import pandas as pd\n",
    "import numpy as np\n",
    "import datetime\n",
    "import io\n",
    "import datetime\n",
    "import matplotlib.lines as mlines\n",
    "import warnings\n",
    "warnings.filterwarnings(\"ignore\")\n",
    "from fredapi import Fred\n",
    "import statsmodels.formula.api as smf\n",
    "import datetime"
   ]
  },
  {
   "cell_type": "code",
   "execution_count": 131,
   "id": "03eb90ca",
   "metadata": {},
   "outputs": [
    {
     "data": {
      "text/html": [
       "<div>\n",
       "<style scoped>\n",
       "    .dataframe tbody tr th:only-of-type {\n",
       "        vertical-align: middle;\n",
       "    }\n",
       "\n",
       "    .dataframe tbody tr th {\n",
       "        vertical-align: top;\n",
       "    }\n",
       "\n",
       "    .dataframe thead th {\n",
       "        text-align: right;\n",
       "    }\n",
       "</style>\n",
       "<table border=\"1\" class=\"dataframe\">\n",
       "  <thead>\n",
       "    <tr style=\"text-align: right;\">\n",
       "      <th></th>\n",
       "      <th>I_US</th>\n",
       "      <th>I_EU</th>\n",
       "      <th>Inf_US</th>\n",
       "      <th>Inf_EU</th>\n",
       "      <th>Euro</th>\n",
       "    </tr>\n",
       "  </thead>\n",
       "  <tbody>\n",
       "    <tr>\n",
       "      <th>2003-12-01</th>\n",
       "      <td>1.11</td>\n",
       "      <td>2.1590</td>\n",
       "      <td>0.019284</td>\n",
       "      <td>0.021933</td>\n",
       "      <td>1.196501</td>\n",
       "    </tr>\n",
       "    <tr>\n",
       "      <th>2004-01-01</th>\n",
       "      <td>1.10</td>\n",
       "      <td>2.1463</td>\n",
       "      <td>0.020352</td>\n",
       "      <td>0.020207</td>\n",
       "      <td>1.258194</td>\n",
       "    </tr>\n",
       "    <tr>\n",
       "      <th>2004-02-01</th>\n",
       "      <td>1.06</td>\n",
       "      <td>2.0895</td>\n",
       "      <td>0.020263</td>\n",
       "      <td>0.018343</td>\n",
       "      <td>1.246805</td>\n",
       "    </tr>\n",
       "    <tr>\n",
       "      <th>2004-03-01</th>\n",
       "      <td>1.05</td>\n",
       "      <td>2.0706</td>\n",
       "      <td>0.016885</td>\n",
       "      <td>0.016654</td>\n",
       "      <td>1.244803</td>\n",
       "    </tr>\n",
       "    <tr>\n",
       "      <th>2004-04-01</th>\n",
       "      <td>1.05</td>\n",
       "      <td>2.0288</td>\n",
       "      <td>0.017401</td>\n",
       "      <td>0.017175</td>\n",
       "      <td>1.236507</td>\n",
       "    </tr>\n",
       "    <tr>\n",
       "      <th>...</th>\n",
       "      <td>...</td>\n",
       "      <td>...</td>\n",
       "      <td>...</td>\n",
       "      <td>...</td>\n",
       "      <td>...</td>\n",
       "    </tr>\n",
       "    <tr>\n",
       "      <th>2022-08-01</th>\n",
       "      <td>2.50</td>\n",
       "      <td>0.0366</td>\n",
       "      <td>0.084821</td>\n",
       "      <td>0.088662</td>\n",
       "      <td>1.020825</td>\n",
       "    </tr>\n",
       "    <tr>\n",
       "      <th>2022-09-01</th>\n",
       "      <td>2.76</td>\n",
       "      <td>0.3947</td>\n",
       "      <td>0.082492</td>\n",
       "      <td>0.091406</td>\n",
       "      <td>1.003905</td>\n",
       "    </tr>\n",
       "    <tr>\n",
       "      <th>2022-10-01</th>\n",
       "      <td>3.21</td>\n",
       "      <td>1.0109</td>\n",
       "      <td>0.082224</td>\n",
       "      <td>0.099272</td>\n",
       "      <td>0.982956</td>\n",
       "    </tr>\n",
       "    <tr>\n",
       "      <th>2022-11-01</th>\n",
       "      <td>3.85</td>\n",
       "      <td>1.4277</td>\n",
       "      <td>0.077631</td>\n",
       "      <td>0.106206</td>\n",
       "      <td>0.988631</td>\n",
       "    </tr>\n",
       "    <tr>\n",
       "      <th>2022-12-01</th>\n",
       "      <td>4.46</td>\n",
       "      <td>1.8252</td>\n",
       "      <td>0.071179</td>\n",
       "      <td>0.100546</td>\n",
       "      <td>1.042535</td>\n",
       "    </tr>\n",
       "  </tbody>\n",
       "</table>\n",
       "<p>229 rows × 5 columns</p>\n",
       "</div>"
      ],
      "text/plain": [
       "            I_US    I_EU    Inf_US    Inf_EU      Euro\n",
       "2003-12-01  1.11  2.1590  0.019284  0.021933  1.196501\n",
       "2004-01-01  1.10  2.1463  0.020352  0.020207  1.258194\n",
       "2004-02-01  1.06  2.0895  0.020263  0.018343  1.246805\n",
       "2004-03-01  1.05  2.0706  0.016885  0.016654  1.244803\n",
       "2004-04-01  1.05  2.0288  0.017401  0.017175  1.236507\n",
       "...          ...     ...       ...       ...       ...\n",
       "2022-08-01  2.50  0.0366  0.084821  0.088662  1.020825\n",
       "2022-09-01  2.76  0.3947  0.082492  0.091406  1.003905\n",
       "2022-10-01  3.21  1.0109  0.082224  0.099272  0.982956\n",
       "2022-11-01  3.85  1.4277  0.077631  0.106206  0.988631\n",
       "2022-12-01  4.46  1.8252  0.071179  0.100546  1.042535\n",
       "\n",
       "[229 rows x 5 columns]"
      ]
     },
     "execution_count": 131,
     "metadata": {},
     "output_type": "execute_result"
    }
   ],
   "source": [
    "interest = pd.read_csv('hw2_data.csv', parse_dates = True, index_col = 0)\n",
    "interest"
   ]
  },
  {
   "cell_type": "code",
   "execution_count": 132,
   "id": "ef12620e",
   "metadata": {},
   "outputs": [
    {
     "data": {
      "text/html": [
       "<div>\n",
       "<style scoped>\n",
       "    .dataframe tbody tr th:only-of-type {\n",
       "        vertical-align: middle;\n",
       "    }\n",
       "\n",
       "    .dataframe tbody tr th {\n",
       "        vertical-align: top;\n",
       "    }\n",
       "\n",
       "    .dataframe thead th {\n",
       "        text-align: right;\n",
       "    }\n",
       "</style>\n",
       "<table border=\"1\" class=\"dataframe\">\n",
       "  <thead>\n",
       "    <tr style=\"text-align: right;\">\n",
       "      <th></th>\n",
       "      <th>Euro</th>\n",
       "    </tr>\n",
       "  </thead>\n",
       "  <tbody>\n",
       "    <tr>\n",
       "      <th>2003-12-01</th>\n",
       "      <td>1.196501</td>\n",
       "    </tr>\n",
       "    <tr>\n",
       "      <th>2004-01-01</th>\n",
       "      <td>1.258194</td>\n",
       "    </tr>\n",
       "    <tr>\n",
       "      <th>2004-02-01</th>\n",
       "      <td>1.246805</td>\n",
       "    </tr>\n",
       "    <tr>\n",
       "      <th>2004-03-01</th>\n",
       "      <td>1.244803</td>\n",
       "    </tr>\n",
       "    <tr>\n",
       "      <th>2004-04-01</th>\n",
       "      <td>1.236507</td>\n",
       "    </tr>\n",
       "    <tr>\n",
       "      <th>...</th>\n",
       "      <td>...</td>\n",
       "    </tr>\n",
       "    <tr>\n",
       "      <th>2022-08-01</th>\n",
       "      <td>1.020825</td>\n",
       "    </tr>\n",
       "    <tr>\n",
       "      <th>2022-09-01</th>\n",
       "      <td>1.003905</td>\n",
       "    </tr>\n",
       "    <tr>\n",
       "      <th>2022-10-01</th>\n",
       "      <td>0.982956</td>\n",
       "    </tr>\n",
       "    <tr>\n",
       "      <th>2022-11-01</th>\n",
       "      <td>0.988631</td>\n",
       "    </tr>\n",
       "    <tr>\n",
       "      <th>2022-12-01</th>\n",
       "      <td>1.042535</td>\n",
       "    </tr>\n",
       "  </tbody>\n",
       "</table>\n",
       "<p>229 rows × 1 columns</p>\n",
       "</div>"
      ],
      "text/plain": [
       "                Euro\n",
       "2003-12-01  1.196501\n",
       "2004-01-01  1.258194\n",
       "2004-02-01  1.246805\n",
       "2004-03-01  1.244803\n",
       "2004-04-01  1.236507\n",
       "...              ...\n",
       "2022-08-01  1.020825\n",
       "2022-09-01  1.003905\n",
       "2022-10-01  0.982956\n",
       "2022-11-01  0.988631\n",
       "2022-12-01  1.042535\n",
       "\n",
       "[229 rows x 1 columns]"
      ]
     },
     "execution_count": 132,
     "metadata": {},
     "output_type": "execute_result"
    }
   ],
   "source": [
    "exrate = pd.read_csv('hw2_data.csv', parse_dates = True, index_col = 0)[['Euro']]\n",
    "exrate"
   ]
  },
  {
   "cell_type": "code",
   "execution_count": 133,
   "id": "f80901a8",
   "metadata": {},
   "outputs": [
    {
     "data": {
      "text/plain": [
       "I_US      0\n",
       "I_EU      0\n",
       "Inf_US    0\n",
       "Inf_EU    0\n",
       "Euro      0\n",
       "dtype: int64"
      ]
     },
     "execution_count": 133,
     "metadata": {},
     "output_type": "execute_result"
    }
   ],
   "source": [
    "interest.isnull().sum()"
   ]
  },
  {
   "cell_type": "code",
   "execution_count": 134,
   "id": "ed9de6f4",
   "metadata": {},
   "outputs": [],
   "source": [
    "def scale(x):\n",
    "    return (x-x.min())/(x.max()-x.min())\n",
    "\n",
    "interest[\"ir_diff\"] = scale(interest[\"I_US\"]) - scale(interest[\"I_EU\"])\n",
    "interest.dropna(inplace= True)"
   ]
  },
  {
   "cell_type": "code",
   "execution_count": 135,
   "id": "869957aa",
   "metadata": {},
   "outputs": [
    {
     "data": {
      "text/html": [
       "<div>\n",
       "<style scoped>\n",
       "    .dataframe tbody tr th:only-of-type {\n",
       "        vertical-align: middle;\n",
       "    }\n",
       "\n",
       "    .dataframe tbody tr th {\n",
       "        vertical-align: top;\n",
       "    }\n",
       "\n",
       "    .dataframe thead th {\n",
       "        text-align: right;\n",
       "    }\n",
       "</style>\n",
       "<table border=\"1\" class=\"dataframe\">\n",
       "  <thead>\n",
       "    <tr style=\"text-align: right;\">\n",
       "      <th></th>\n",
       "      <th>I_US</th>\n",
       "      <th>I_EU</th>\n",
       "      <th>Inf_US</th>\n",
       "      <th>Inf_EU</th>\n",
       "      <th>Euro</th>\n",
       "      <th>ir_diff</th>\n",
       "    </tr>\n",
       "  </thead>\n",
       "  <tbody>\n",
       "    <tr>\n",
       "      <th>2003-12-01</th>\n",
       "      <td>1.11</td>\n",
       "      <td>2.1590</td>\n",
       "      <td>0.019284</td>\n",
       "      <td>0.021933</td>\n",
       "      <td>1.196501</td>\n",
       "      <td>-0.292402</td>\n",
       "    </tr>\n",
       "    <tr>\n",
       "      <th>2004-01-01</th>\n",
       "      <td>1.10</td>\n",
       "      <td>2.1463</td>\n",
       "      <td>0.020352</td>\n",
       "      <td>0.020207</td>\n",
       "      <td>1.258194</td>\n",
       "      <td>-0.292024</td>\n",
       "    </tr>\n",
       "    <tr>\n",
       "      <th>2004-02-01</th>\n",
       "      <td>1.06</td>\n",
       "      <td>2.0895</td>\n",
       "      <td>0.020263</td>\n",
       "      <td>0.018343</td>\n",
       "      <td>1.246805</td>\n",
       "      <td>-0.289458</td>\n",
       "    </tr>\n",
       "    <tr>\n",
       "      <th>2004-03-01</th>\n",
       "      <td>1.05</td>\n",
       "      <td>2.0706</td>\n",
       "      <td>0.016885</td>\n",
       "      <td>0.016654</td>\n",
       "      <td>1.244803</td>\n",
       "      <td>-0.287991</td>\n",
       "    </tr>\n",
       "    <tr>\n",
       "      <th>2004-04-01</th>\n",
       "      <td>1.05</td>\n",
       "      <td>2.0288</td>\n",
       "      <td>0.017401</td>\n",
       "      <td>0.017175</td>\n",
       "      <td>1.236507</td>\n",
       "      <td>-0.280651</td>\n",
       "    </tr>\n",
       "    <tr>\n",
       "      <th>...</th>\n",
       "      <td>...</td>\n",
       "      <td>...</td>\n",
       "      <td>...</td>\n",
       "      <td>...</td>\n",
       "      <td>...</td>\n",
       "      <td>...</td>\n",
       "    </tr>\n",
       "    <tr>\n",
       "      <th>2022-08-01</th>\n",
       "      <td>2.50</td>\n",
       "      <td>0.0366</td>\n",
       "      <td>0.084821</td>\n",
       "      <td>0.088662</td>\n",
       "      <td>1.020825</td>\n",
       "      <td>0.337677</td>\n",
       "    </tr>\n",
       "    <tr>\n",
       "      <th>2022-09-01</th>\n",
       "      <td>2.76</td>\n",
       "      <td>0.3947</td>\n",
       "      <td>0.082492</td>\n",
       "      <td>0.091406</td>\n",
       "      <td>1.003905</td>\n",
       "      <td>0.322946</td>\n",
       "    </tr>\n",
       "    <tr>\n",
       "      <th>2022-10-01</th>\n",
       "      <td>3.21</td>\n",
       "      <td>1.0109</td>\n",
       "      <td>0.082224</td>\n",
       "      <td>0.099272</td>\n",
       "      <td>0.982956</td>\n",
       "      <td>0.298081</td>\n",
       "    </tr>\n",
       "    <tr>\n",
       "      <th>2022-11-01</th>\n",
       "      <td>3.85</td>\n",
       "      <td>1.4277</td>\n",
       "      <td>0.077631</td>\n",
       "      <td>0.106206</td>\n",
       "      <td>0.988631</td>\n",
       "      <td>0.343414</td>\n",
       "    </tr>\n",
       "    <tr>\n",
       "      <th>2022-12-01</th>\n",
       "      <td>4.46</td>\n",
       "      <td>1.8252</td>\n",
       "      <td>0.071179</td>\n",
       "      <td>0.100546</td>\n",
       "      <td>1.042535</td>\n",
       "      <td>0.386580</td>\n",
       "    </tr>\n",
       "  </tbody>\n",
       "</table>\n",
       "<p>229 rows × 6 columns</p>\n",
       "</div>"
      ],
      "text/plain": [
       "            I_US    I_EU    Inf_US    Inf_EU      Euro   ir_diff\n",
       "2003-12-01  1.11  2.1590  0.019284  0.021933  1.196501 -0.292402\n",
       "2004-01-01  1.10  2.1463  0.020352  0.020207  1.258194 -0.292024\n",
       "2004-02-01  1.06  2.0895  0.020263  0.018343  1.246805 -0.289458\n",
       "2004-03-01  1.05  2.0706  0.016885  0.016654  1.244803 -0.287991\n",
       "2004-04-01  1.05  2.0288  0.017401  0.017175  1.236507 -0.280651\n",
       "...          ...     ...       ...       ...       ...       ...\n",
       "2022-08-01  2.50  0.0366  0.084821  0.088662  1.020825  0.337677\n",
       "2022-09-01  2.76  0.3947  0.082492  0.091406  1.003905  0.322946\n",
       "2022-10-01  3.21  1.0109  0.082224  0.099272  0.982956  0.298081\n",
       "2022-11-01  3.85  1.4277  0.077631  0.106206  0.988631  0.343414\n",
       "2022-12-01  4.46  1.8252  0.071179  0.100546  1.042535  0.386580\n",
       "\n",
       "[229 rows x 6 columns]"
      ]
     },
     "execution_count": 135,
     "metadata": {},
     "output_type": "execute_result"
    }
   ],
   "source": [
    "interest"
   ]
  },
  {
   "cell_type": "code",
   "execution_count": 176,
   "id": "c6e6c152",
   "metadata": {},
   "outputs": [],
   "source": [
    "k = 0.4\n",
    "z = 1.645\n",
    "T = 20\n",
    "\n",
    "interest[\"Filter\"] = interest.ir_diff.ewm(alpha = k, adjust = False).mean()\n",
    "interest[\"Filter Error\"] = interest.ir_diff - interest[\"Filter\"]"
   ]
  },
  {
   "cell_type": "code",
   "execution_count": 177,
   "id": "c6a5345b",
   "metadata": {},
   "outputs": [
    {
     "data": {
      "image/png": "[encoded data removed]",
      "text/plain": [
       "<Figure size 1080x360 with 1 Axes>"
      ]
     },
     "metadata": {
      "needs_background": "light"
     },
     "output_type": "display_data"
    }
   ],
   "source": [
    "fig, ax = plt.subplots(figsize = (15, 5))\n",
    "plt.title(\"Interest rate differential and Kalman Filter\")\n",
    "plt.plot(interest.ir_diff)\n",
    "plt.plot(interest.Filter)\n",
    "plt.legend(\"Int. rate differential\", \"Kalman Filter\")\n",
    "plt.grid()"
   ]
  },
  {
   "cell_type": "code",
   "execution_count": 178,
   "id": "f4752261",
   "metadata": {},
   "outputs": [],
   "source": [
    "interest2 = interest[[\"ir_diff\", \"Filter\", \"Filter Error\"]].copy()\n",
    "interest2[\"E_bar\"] = interest2[\"Filter Error\"].expanding(T).mean()\n",
    "interest2[\"mu_t\"] = interest2[\"Filter Error\"].rolling(T).mean()\n",
    "interest2[\"var_t\"] = interest2[\"Filter Error\"].expanding(T).std()\n",
    "interest2[\"Test Statistic\"] = interest2[\"mu_t\"]/(interest2[\"var_t\"]/np.sqrt(T))"
   ]
  },
  {
   "cell_type": "code",
   "execution_count": 179,
   "id": "4edb5c50",
   "metadata": {},
   "outputs": [
    {
     "data": {
      "text/html": [
       "<div>\n",
       "<style scoped>\n",
       "    .dataframe tbody tr th:only-of-type {\n",
       "        vertical-align: middle;\n",
       "    }\n",
       "\n",
       "    .dataframe tbody tr th {\n",
       "        vertical-align: top;\n",
       "    }\n",
       "\n",
       "    .dataframe thead th {\n",
       "        text-align: right;\n",
       "    }\n",
       "</style>\n",
       "<table border=\"1\" class=\"dataframe\">\n",
       "  <thead>\n",
       "    <tr style=\"text-align: right;\">\n",
       "      <th></th>\n",
       "      <th>ir_diff</th>\n",
       "      <th>Filter</th>\n",
       "      <th>Filter Error</th>\n",
       "      <th>E_bar</th>\n",
       "      <th>mu_t</th>\n",
       "      <th>var_t</th>\n",
       "      <th>Test Statistic</th>\n",
       "      <th>Signal</th>\n",
       "    </tr>\n",
       "  </thead>\n",
       "  <tbody>\n",
       "    <tr>\n",
       "      <th>2005-07-01</th>\n",
       "      <td>0.136397</td>\n",
       "      <td>0.091784</td>\n",
       "      <td>0.044613</td>\n",
       "      <td>0.028814</td>\n",
       "      <td>0.028814</td>\n",
       "      <td>0.019803</td>\n",
       "      <td>6.507075</td>\n",
       "      <td>0</td>\n",
       "    </tr>\n",
       "    <tr>\n",
       "      <th>2005-08-01</th>\n",
       "      <td>0.170107</td>\n",
       "      <td>0.123113</td>\n",
       "      <td>0.046994</td>\n",
       "      <td>0.029680</td>\n",
       "      <td>0.031164</td>\n",
       "      <td>0.019705</td>\n",
       "      <td>7.072688</td>\n",
       "      <td>0</td>\n",
       "    </tr>\n",
       "    <tr>\n",
       "      <th>2005-09-01</th>\n",
       "      <td>0.204844</td>\n",
       "      <td>0.155805</td>\n",
       "      <td>0.049038</td>\n",
       "      <td>0.030560</td>\n",
       "      <td>0.033604</td>\n",
       "      <td>0.019668</td>\n",
       "      <td>7.640918</td>\n",
       "      <td>0</td>\n",
       "    </tr>\n",
       "    <tr>\n",
       "      <th>2005-10-01</th>\n",
       "      <td>0.222203</td>\n",
       "      <td>0.182364</td>\n",
       "      <td>0.039839</td>\n",
       "      <td>0.030963</td>\n",
       "      <td>0.035512</td>\n",
       "      <td>0.019313</td>\n",
       "      <td>8.223234</td>\n",
       "      <td>0</td>\n",
       "    </tr>\n",
       "    <tr>\n",
       "      <th>2005-11-01</th>\n",
       "      <td>0.260255</td>\n",
       "      <td>0.213521</td>\n",
       "      <td>0.046734</td>\n",
       "      <td>0.031620</td>\n",
       "      <td>0.037755</td>\n",
       "      <td>0.019161</td>\n",
       "      <td>8.811908</td>\n",
       "      <td>0</td>\n",
       "    </tr>\n",
       "  </tbody>\n",
       "</table>\n",
       "</div>"
      ],
      "text/plain": [
       "             ir_diff    Filter  Filter Error     E_bar      mu_t     var_t  \\\n",
       "2005-07-01  0.136397  0.091784      0.044613  0.028814  0.028814  0.019803   \n",
       "2005-08-01  0.170107  0.123113      0.046994  0.029680  0.031164  0.019705   \n",
       "2005-09-01  0.204844  0.155805      0.049038  0.030560  0.033604  0.019668   \n",
       "2005-10-01  0.222203  0.182364      0.039839  0.030963  0.035512  0.019313   \n",
       "2005-11-01  0.260255  0.213521      0.046734  0.031620  0.037755  0.019161   \n",
       "\n",
       "            Test Statistic  Signal  \n",
       "2005-07-01        6.507075       0  \n",
       "2005-08-01        7.072688       0  \n",
       "2005-09-01        7.640918       0  \n",
       "2005-10-01        8.223234       0  \n",
       "2005-11-01        8.811908       0  "
      ]
     },
     "execution_count": 179,
     "metadata": {},
     "output_type": "execute_result"
    }
   ],
   "source": [
    "interest2[\"Signal\"] = 0\n",
    "for i in interest2.index:\n",
    "    # create signals based on the sign of the current mean and if we fail to reject the null\n",
    "    if (interest2.loc[i, \"Test Statistic\"] < z) & (interest2.loc[i, \"E_bar\"] >= 0):\n",
    "        interest2.loc[i, \"Signal\"] = 1\n",
    "    elif (interest2.loc[i, \"Test Statistic\"] > -z) & (interest2.loc[i, \"E_bar\"] < 0):\n",
    "        interest2.loc[i, \"Signal\"] = -1\n",
    "\n",
    "interest2.dropna(inplace = True)\n",
    "interest2.head()"
   ]
  },
  {
   "cell_type": "code",
   "execution_count": 180,
   "id": "2f88eeaa",
   "metadata": {},
   "outputs": [
    {
     "data": {
      "image/png": "[encoded data removed]",
      "text/plain": [
       "<Figure size 1080x360 with 1 Axes>"
      ]
     },
     "metadata": {
      "needs_background": "light"
     },
     "output_type": "display_data"
    }
   ],
   "source": [
    "fig, ax = plt.subplots(figsize = (15, 5))\n",
    "ax.set_title(\"Kalman Filter Statistical Test, K = .4 and T =\"+str(T))\n",
    "\n",
    "ax.set_ylabel(\"Scaled Interest Rate Differential\")\n",
    "ax.plot(interest2[\"ir_diff\"])\n",
    "ax.plot(interest2[\"Filter\"])\n",
    "\n",
    "ax.scatter(interest2[interest2.Signal == 1].index, interest2[interest2.Signal == 1][\"ir_diff\"], color = \"green\")\n",
    "ax.scatter(interest2[interest2.Signal == -1].index, interest2[interest2.Signal == -1][\"ir_diff\"], color = \"red\")\n",
    "\n",
    "ax.legend([\"Scaled Interest Rate Differential\", \"Kalman CI\"])\n",
    "\n",
    "ax.grid()"
   ]
  },
  {
   "cell_type": "code",
   "execution_count": 181,
   "id": "eea1beaf",
   "metadata": {},
   "outputs": [],
   "source": [
    "drange = pd.date_range(start =interest2.index[0], end = \"01/01/2023\")\n",
    "daily  = pd.DataFrame(index = drange)\n",
    "\n",
    "daily[\"Signal\"] = interest2[\"Signal\"]\n",
    "daily[\"Filter\"] = interest2[\"Filter\"]\n",
    "daily[\"Filter\"] = daily[\"Filter\"].ffill()\n",
    "daily[\"ir_diff\"] = interest2[\"ir_diff\"]\n",
    "daily[\"ir_diff\"] = daily[\"ir_diff\"].ffill()\n",
    "daily = daily.fillna(0)\n",
    "\n",
    "i = 30\n",
    "daily[str(i)+\"_signal\"] = 0\n",
    "for j in daily.index:\n",
    "    if daily.loc[j,\"Signal\"] != 0:\n",
    "        daily.loc[j:j+datetime.timedelta(i), str(i)+\"_signal\"] = daily.loc[j, \"Signal\"]"
   ]
  },
  {
   "cell_type": "code",
   "execution_count": 182,
   "id": "6d2c302a",
   "metadata": {},
   "outputs": [],
   "source": [
    "drange = pd.date_range(start =interest2.index[0], end = \"01/01/2023\")\n",
    "exdf = pd.DataFrame(index = drange)\n",
    "\n",
    "exdf[\"EURUSD\"] = exrate\n",
    "exdf[\"EURUSD\"] = exdf[\"EURUSD\"].ffill()\n",
    "\n",
    "daily[\"EURUSD\"] = exdf[\"EURUSD\"]\n",
    "daily[\"Returns\"] = np.log(daily[\"EURUSD\"]).diff()"
   ]
  },
  {
   "cell_type": "code",
   "execution_count": 183,
   "id": "17d6b7b6",
   "metadata": {},
   "outputs": [
    {
     "data": {
      "text/html": [
       "<div>\n",
       "<style scoped>\n",
       "    .dataframe tbody tr th:only-of-type {\n",
       "        vertical-align: middle;\n",
       "    }\n",
       "\n",
       "    .dataframe tbody tr th {\n",
       "        vertical-align: top;\n",
       "    }\n",
       "\n",
       "    .dataframe thead th {\n",
       "        text-align: right;\n",
       "    }\n",
       "</style>\n",
       "<table border=\"1\" class=\"dataframe\">\n",
       "  <thead>\n",
       "    <tr style=\"text-align: right;\">\n",
       "      <th></th>\n",
       "      <th>Signal</th>\n",
       "      <th>Filter</th>\n",
       "      <th>ir_diff</th>\n",
       "      <th>30_signal</th>\n",
       "      <th>EURUSD</th>\n",
       "      <th>Returns</th>\n",
       "      <th>30_returns</th>\n",
       "      <th>30_success</th>\n",
       "    </tr>\n",
       "  </thead>\n",
       "  <tbody>\n",
       "    <tr>\n",
       "      <th>2005-07-01</th>\n",
       "      <td>0.0</td>\n",
       "      <td>0.091784</td>\n",
       "      <td>0.136397</td>\n",
       "      <td>0</td>\n",
       "      <td>1.193602</td>\n",
       "      <td>NaN</td>\n",
       "      <td>NaN</td>\n",
       "      <td>NaN</td>\n",
       "    </tr>\n",
       "    <tr>\n",
       "      <th>2005-07-02</th>\n",
       "      <td>0.0</td>\n",
       "      <td>0.091784</td>\n",
       "      <td>0.136397</td>\n",
       "      <td>0</td>\n",
       "      <td>1.193602</td>\n",
       "      <td>0.0</td>\n",
       "      <td>0.0</td>\n",
       "      <td>NaN</td>\n",
       "    </tr>\n",
       "    <tr>\n",
       "      <th>2005-07-03</th>\n",
       "      <td>0.0</td>\n",
       "      <td>0.091784</td>\n",
       "      <td>0.136397</td>\n",
       "      <td>0</td>\n",
       "      <td>1.193602</td>\n",
       "      <td>0.0</td>\n",
       "      <td>0.0</td>\n",
       "      <td>NaN</td>\n",
       "    </tr>\n",
       "    <tr>\n",
       "      <th>2005-07-04</th>\n",
       "      <td>0.0</td>\n",
       "      <td>0.091784</td>\n",
       "      <td>0.136397</td>\n",
       "      <td>0</td>\n",
       "      <td>1.193602</td>\n",
       "      <td>0.0</td>\n",
       "      <td>0.0</td>\n",
       "      <td>NaN</td>\n",
       "    </tr>\n",
       "    <tr>\n",
       "      <th>2005-07-05</th>\n",
       "      <td>0.0</td>\n",
       "      <td>0.091784</td>\n",
       "      <td>0.136397</td>\n",
       "      <td>0</td>\n",
       "      <td>1.193602</td>\n",
       "      <td>0.0</td>\n",
       "      <td>0.0</td>\n",
       "      <td>NaN</td>\n",
       "    </tr>\n",
       "  </tbody>\n",
       "</table>\n",
       "</div>"
      ],
      "text/plain": [
       "            Signal    Filter   ir_diff  30_signal    EURUSD  Returns  \\\n",
       "2005-07-01     0.0  0.091784  0.136397          0  1.193602      NaN   \n",
       "2005-07-02     0.0  0.091784  0.136397          0  1.193602      0.0   \n",
       "2005-07-03     0.0  0.091784  0.136397          0  1.193602      0.0   \n",
       "2005-07-04     0.0  0.091784  0.136397          0  1.193602      0.0   \n",
       "2005-07-05     0.0  0.091784  0.136397          0  1.193602      0.0   \n",
       "\n",
       "            30_returns  30_success  \n",
       "2005-07-01         NaN         NaN  \n",
       "2005-07-02         0.0         NaN  \n",
       "2005-07-03         0.0         NaN  \n",
       "2005-07-04         0.0         NaN  \n",
       "2005-07-05         0.0         NaN  "
      ]
     },
     "execution_count": 183,
     "metadata": {},
     "output_type": "execute_result"
    }
   ],
   "source": [
    "s = i\n",
    "daily[str(s)+\"_returns\"] = (np.exp((daily[str(i)+\"_signal\"].shift()*daily.Returns).cumsum())-1)\n",
    "daily[str(s)+\"_success\"] = ((daily[daily.Signal!= 0][str(s)+\"_returns\"].diff()>0)*1).shift(-1)\n",
    "daily.head()"
   ]
  },
  {
   "cell_type": "code",
   "execution_count": 184,
   "id": "de7eb688",
   "metadata": {},
   "outputs": [
    {
     "data": {
      "image/png": "[encoded data removed]",
      "text/plain": [
       "<Figure size 1080x360 with 1 Axes>"
      ]
     },
     "metadata": {
      "needs_background": "light"
     },
     "output_type": "display_data"
    }
   ],
   "source": [
    "plt.figure(figsize = (15, 5))\n",
    "plt.title(\"Exchange Rates and Possible Interest Rate Surprise:\"+ \" k=\" + str(k)+\", T=\"+str(T))\n",
    "plt.plot(daily[\"EURUSD\"])\n",
    "\n",
    "longsuccess = daily[(daily[str(s)+\"_success\"] == 1) & (daily[\"Signal\"] == 1)]\n",
    "longfail = daily[(daily[str(s)+\"_success\"] == 0) & (daily[\"Signal\"] == 1)] \n",
    "shortsuccess = daily[(daily[str(s)+\"_success\"] == 1) & (daily[\"Signal\"] == -1)]\n",
    "shortfail = daily[(daily[str(s)+\"_success\"] == 0) & (daily[\"Signal\"] == -1)]\n",
    "\n",
    "plt.scatter(longsuccess.index, longsuccess[\"EURUSD\"], color = 'green', s = 50)\n",
    "plt.scatter(longfail.index, longfail[\"EURUSD\"], color = 'green', s = 50, marker = \"x\")\n",
    "plt.scatter(shortsuccess.index, shortsuccess[\"EURUSD\"], color = 'red', s = 50)\n",
    "plt.scatter(shortfail.index, shortfail[\"EURUSD\"], color = 'red', s = 50, marker = \"x\")\n",
    "\n",
    "plt.legend([\"EURUSD Exchange Rate\", \"Long Success\", \"Long Fail\", \"Short Success\", \"Short Fail\"])\n",
    "plt.grid()"
   ]
  },
  {
   "cell_type": "raw",
   "id": "6da97a64",
   "metadata": {},
   "source": [
    "Short position: when the rate differential rises above the Kalman filter plus some standard deviations.\n",
    "Long position: when the rate differential falls below the Kalman filter minus some standard deviations."
   ]
  },
  {
   "cell_type": "code",
   "execution_count": 185,
   "id": "fe92225f",
   "metadata": {},
   "outputs": [],
   "source": [
    "mret = str(i)+\"_returns\""
   ]
  },
  {
   "cell_type": "code",
   "execution_count": 186,
   "id": "96f17a62",
   "metadata": {},
   "outputs": [
    {
     "data": {
      "image/png": "[encoded data removed]",
      "text/plain": [
       "<Figure size 1080x360 with 1 Axes>"
      ]
     },
     "metadata": {
      "needs_background": "light"
     },
     "output_type": "display_data"
    }
   ],
   "source": [
    "plt.figure(figsize = (15, 5))\n",
    "d2 = daily[daily.index.year >= 2020]\n",
    "(daily[mret].dropna()).plot()\n",
    "plt.title(\"Interest Differential Strategy:\"+ \" k=\" + str(k)+\", T=\"+str(T))\n",
    "plt.legend([\"Equity Curve\", \"Long Success\", \"Long Fail\", \"Short Success\", \"Short Fail\"])\n",
    "plt.grid()"
   ]
  },
  {
   "cell_type": "code",
   "execution_count": 187,
   "id": "b4f68019",
   "metadata": {},
   "outputs": [],
   "source": [
    "### Binomial Test\n",
    "start = daily[[\"EURUSD\", mret, \"30_signal\"]][123:].index[0]\n",
    "df = daily[daily.Signal != 0][[\"30_signal\", \"EURUSD\"]].copy()\n",
    "df['D'] = df[\"30_signal\"]"
   ]
  },
  {
   "cell_type": "code",
   "execution_count": 188,
   "id": "3c710e7f",
   "metadata": {},
   "outputs": [],
   "source": [
    "df = df[:-2].copy()"
   ]
  },
  {
   "cell_type": "code",
   "execution_count": 189,
   "id": "feefae00",
   "metadata": {},
   "outputs": [],
   "source": [
    "df = df[:-2].copy()\n",
    "df['s_current'] = daily[daily.index.isin(df.index)][\"EURUSD\"].values\n",
    "df['s_future'] = daily[daily.index.isin(df.index+datetime.timedelta(30))][\"EURUSD\"].values\n",
    "df['R'] = np.where(df['s_future'] >= df['s_current'], 1, -1)"
   ]
  },
  {
   "cell_type": "code",
   "execution_count": 190,
   "id": "d491aaf0",
   "metadata": {},
   "outputs": [
    {
     "data": {
      "text/plain": [
       "0.013392026784053677"
      ]
     },
     "execution_count": 190,
     "metadata": {},
     "output_type": "execute_result"
    }
   ],
   "source": [
    "df['W'] = (df['D']-np.mean(df['D']))*(df['R']-np.mean(df['R']))\n",
    "T_B = np.mean(df['W'])\n",
    "T_B"
   ]
  },
  {
   "cell_type": "code",
   "execution_count": 191,
   "id": "e07fc871",
   "metadata": {},
   "outputs": [],
   "source": [
    "dy = df['W'] - np.mean(df['W'])\n",
    "gamma_0 = sum((dy)**2)/len(df)\n",
    "gamma_1 = np.mean((dy*dy.shift(-1))[:len(df)-1])\n",
    "LRV = gamma_0 + 2*(1-1/2)*gamma_1"
   ]
  },
  {
   "cell_type": "code",
   "execution_count": 192,
   "id": "1b12ec77",
   "metadata": {},
   "outputs": [
    {
     "name": "stdout",
     "output_type": "stream",
     "text": [
      "Test statistic :  0.4411994648638108 , 5 % critical value :  1.64\n"
     ]
    }
   ],
   "source": [
    "from scipy.stats import norm\n",
    "\n",
    "statistic = T_B/np.sqrt(LRV/df.shape[0])\n",
    "print('Test statistic : ', statistic, ', 5 % critical value : ', round(norm.ppf(0.95),2))"
   ]
  },
  {
   "cell_type": "raw",
   "id": "66dd9d9b",
   "metadata": {},
   "source": [
    "Fail to reject."
   ]
  },
  {
   "cell_type": "code",
   "execution_count": 193,
   "id": "aadd10ca",
   "metadata": {},
   "outputs": [
    {
     "data": {
      "text/plain": [
       "0.002175893370560774"
      ]
     },
     "execution_count": 193,
     "metadata": {},
     "output_type": "execute_result"
    }
   ],
   "source": [
    "### Weighted Binomial Test\n",
    "df['W_2'] = df['D']*(df['s_future']-df['s_current'])\n",
    "T_WB = np.mean(df['W_2'])\n",
    "T_WB"
   ]
  },
  {
   "cell_type": "code",
   "execution_count": 194,
   "id": "efac35e3",
   "metadata": {},
   "outputs": [],
   "source": [
    "dy_2 = df['W_2'] - np.mean(df['W_2'])\n",
    "gamma_0 = sum((dy_2)**2)/len(df)\n",
    "gamma_1 = np.mean((dy_2*dy_2.shift(-1))[:len(df)-1])\n",
    "LRV_2 = gamma_0 + 2*(1-1/2)*gamma_1"
   ]
  },
  {
   "cell_type": "code",
   "execution_count": 195,
   "id": "25e21f0a",
   "metadata": {},
   "outputs": [
    {
     "name": "stdout",
     "output_type": "stream",
     "text": [
      "Test statistic :  1.138157936045619 , 5 % critical value :  1.64\n"
     ]
    }
   ],
   "source": [
    "statistic_2 = T_WB/np.sqrt(LRV_2/len(df))\n",
    "print('Test statistic : ', statistic_2, ', 5 % critical value : ', round(norm.ppf(0.95),2))"
   ]
  },
  {
   "cell_type": "raw",
   "id": "8673c89e",
   "metadata": {},
   "source": [
    "Fail to reject."
   ]
  },
  {
   "cell_type": "markdown",
   "id": "a91f4721",
   "metadata": {},
   "source": [
    "**Changing values**"
   ]
  },
  {
   "cell_type": "raw",
   "id": "87cf4632",
   "metadata": {},
   "source": [
    "Original Values:\n",
    "\n",
    "k = 0.4\n",
    "z = 1.645\n",
    "T = 20"
   ]
  },
  {
   "cell_type": "raw",
   "id": "c4c81aa6",
   "metadata": {},
   "source": [
    "First trial:\n",
    "\n",
    "k = 0.5\n",
    "z = 2.58\n",
    "T = 10\n",
    "\n",
    "No particular change in the filter CI fit. There is an increase in the number of signals from 2012 to 2022; they are all long, both success and fail. Short signals are created from 2008 and 2010."
   ]
  },
  {
   "cell_type": "raw",
   "id": "22116def",
   "metadata": {},
   "source": [
    "Second trial:\n",
    "\n",
    "k = 0.1\n",
    "z = 1.28\n",
    "T = 50\n",
    "\n",
    "The filter CI fits the real interbank data less than with the original parameters. There are not signals from 2016 to 2021, and the short signals (both success and fails) in 2011 became long signals. "
   ]
  },
  {
   "cell_type": "raw",
   "id": "86c70e1f",
   "metadata": {},
   "source": [
    "Third trial:\n",
    "    \n",
    "k = 0.9\n",
    "z = 1.645\n",
    "T = 30\n",
    "\n",
    "The filter CI fits the real interbank data almost perfectly. There is almost no difference for what it concerns the strategy but an increase of long success signals during 2017 and long fail in 2022. "
   ]
  }
 ],
 "metadata": {
  "kernelspec": {
   "display_name": "Python 3 (ipykernel)",
   "language": "python",
   "name": "python3"
  },
  "language_info": {
   "codemirror_mode": {
    "name": "ipython",
    "version": 3
   },
   "file_extension": ".py",
   "mimetype": "text/x-python",
   "name": "python",
   "nbconvert_exporter": "python",
   "pygments_lexer": "ipython3",
   "version": "3.9.12"
  }
 },
 "nbformat": 4,
 "nbformat_minor": 5
}
